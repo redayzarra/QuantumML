{
 "cells": [
  {
   "cell_type": "markdown",
   "id": "b2a368ed",
   "metadata": {},
   "source": [
    "# Notes: Qubits"
   ]
  },
  {
   "cell_type": "markdown",
   "id": "7dc1ff4a",
   "metadata": {},
   "source": [
    "### by ReDay Zarra"
   ]
  },
  {
   "cell_type": "markdown",
   "id": "3184a087",
   "metadata": {},
   "source": [
    "## Setup"
   ]
  },
  {
   "cell_type": "code",
   "execution_count": 1,
   "id": "d75b14cb",
   "metadata": {},
   "outputs": [
    {
     "name": "stdout",
     "output_type": "stream",
     "text": [
      "3.9.17 (main, Jun  6 2023, 20:11:21) \n",
      "[GCC 11.3.0]\n"
     ]
    }
   ],
   "source": [
    "import sys\n",
    "print(sys.version)"
   ]
  },
  {
   "cell_type": "code",
   "execution_count": 2,
   "id": "0fa2fa3d",
   "metadata": {},
   "outputs": [
    {
     "data": {
      "text/plain": [
       "<module 'pkg_resources' from '/usr/lib/python3/dist-packages/pkg_resources/__init__.py'>"
      ]
     },
     "execution_count": 2,
     "metadata": {},
     "output_type": "execute_result"
    }
   ],
   "source": [
    "import importlib, pkg_resources\n",
    "importlib.reload(pkg_resources)"
   ]
  },
  {
   "cell_type": "code",
   "execution_count": 3,
   "id": "b3c499bc",
   "metadata": {},
   "outputs": [
    {
     "name": "stderr",
     "output_type": "stream",
     "text": [
      "2023-07-03 10:24:05.292982: W tensorflow/stream_executor/platform/default/dso_loader.cc:64] Could not load dynamic library 'libcudart.so.11.0'; dlerror: libcudart.so.11.0: cannot open shared object file: No such file or directory\n",
      "2023-07-03 10:24:05.293050: I tensorflow/stream_executor/cuda/cudart_stub.cc:29] Ignore above cudart dlerror if you do not have a GPU set up on your machine.\n",
      "/usr/lib/python3/dist-packages/pkg_resources/__init__.py:116: PkgResourcesDeprecationWarning: 1.1build1 is an invalid version and will not be supported in a future release\n",
      "  warnings.warn(\n",
      "2023-07-03 10:24:32.311906: W tensorflow/stream_executor/platform/default/dso_loader.cc:64] Could not load dynamic library 'libcuda.so.1'; dlerror: libcuda.so.1: cannot open shared object file: No such file or directory\n",
      "2023-07-03 10:24:32.311965: W tensorflow/stream_executor/cuda/cuda_driver.cc:269] failed call to cuInit: UNKNOWN ERROR (303)\n",
      "2023-07-03 10:24:32.312007: I tensorflow/stream_executor/cuda/cuda_diagnostics.cc:156] kernel driver does not appear to be running on this host (Bruno): /proc/driver/nvidia/version does not exist\n",
      "2023-07-03 10:24:32.312418: I tensorflow/core/platform/cpu_feature_guard.cc:151] This TensorFlow binary is optimized with oneAPI Deep Neural Network Library (oneDNN) to use the following CPU instructions in performance-critical operations:  AVX2 FMA\n",
      "To enable them in other operations, rebuild TensorFlow with the appropriate compiler flags.\n"
     ]
    }
   ],
   "source": [
    "import tensorflow as tf\n",
    "import tensorflow_quantum as tfq\n",
    "\n",
    "import cirq\n",
    "import sympy\n",
    "import numpy as np"
   ]
  },
  {
   "cell_type": "code",
   "execution_count": 4,
   "id": "cdabe4fc",
   "metadata": {},
   "outputs": [],
   "source": [
    "# Visualization tools: matplotlib and Cirq's svg circuit\n",
    "%matplotlib inline\n",
    "import matplotlib.pyplot as plt\n",
    "from cirq.contrib.svg import SVGCircuit"
   ]
  },
  {
   "cell_type": "code",
   "execution_count": 5,
   "id": "75e1ccd8",
   "metadata": {},
   "outputs": [
    {
     "name": "stdout",
     "output_type": "stream",
     "text": [
      "TensorFlow version:  2.7.0\n",
      "TensorFlow Quantum version:  0.7.2\n",
      "Cirq version:  1.1.0\n"
     ]
    }
   ],
   "source": [
    "print(\"TensorFlow version: \", tf.__version__)\n",
    "print(\"TensorFlow Quantum version: \", tfq.__version__)\n",
    "print(\"Cirq version: \", cirq.__version__)"
   ]
  },
  {
   "cell_type": "markdown",
   "id": "30ee658c",
   "metadata": {},
   "source": [
    "## Qubits"
   ]
  },
  {
   "cell_type": "markdown",
   "id": "62c232e5",
   "metadata": {},
   "source": [
    "### Basics"
   ]
  },
  {
   "cell_type": "markdown",
   "id": "6065d86c",
   "metadata": {},
   "source": [
    "**Qubit**: the basic unit of quantum information. Unlike classical bits which can either be 0 or 1, a qubit can be in a **superposition of states**, meaning it can be in a state that is a **combination of |0⟩ and |1⟩**. Once measured, however, it **collapses to one of the base states**.\n",
    "\n",
    "`cirq.Qid`: an identifier that **represents qubits as abstract objects** with certain attributes. These abstract objects **do not possess a state**, since the actual state of the qubit is maintained in the physical quantum processor, or, in the case of a simulation, in the simulated state vector."
   ]
  },
  {
   "cell_type": "code",
   "execution_count": 6,
   "id": "98d2b479",
   "metadata": {},
   "outputs": [
    {
     "name": "stdout",
     "output_type": "stream",
     "text": [
      "myqubit: ───H───\n"
     ]
    }
   ],
   "source": [
    "qubit = cirq.NamedQubit(\"myqubit\")\n",
    "\n",
    "# Create a circuit with an equal superposition of |0> and |1> when simulated\n",
    "circuit = cirq.Circuit(cirq.H(qubit))\n",
    "\n",
    "# Qubit identifier shows on the left of the circuit\n",
    "print(circuit)"
   ]
  },
  {
   "cell_type": "markdown",
   "id": "52d870ab",
   "metadata": {},
   "source": [
    "In Cirq, you can use Cirq's simulator to **simulate the execution of the quantum circuit**. The resulting quantum state is stored in `result`."
   ]
  },
  {
   "cell_type": "code",
   "execution_count": 8,
   "id": "52b518fa",
   "metadata": {},
   "outputs": [
    {
     "name": "stdout",
     "output_type": "stream",
     "text": [
      "Results: \n",
      "\n",
      "measurements: (no measurements)\n",
      "\n",
      "qubits: (cirq.NamedQubit('myqubit'),)\n",
      "output vector: 0.707|0⟩ + 0.707|1⟩\n",
      "\n",
      "phase:\n",
      "output vector: |⟩\n"
     ]
    }
   ],
   "source": [
    "# Now let's run a simulation!\n",
    "result = cirq.Simulator().simulate(circuit)\n",
    "\n",
    "print(\"Results: \\n\")\n",
    "print(result)"
   ]
  },
  {
   "cell_type": "markdown",
   "id": "dc1c207f",
   "metadata": {},
   "source": [
    "### Qubit Types"
   ]
  },
  {
   "cell_type": "markdown",
   "id": "b510a053",
   "metadata": {},
   "source": [
    "There are various classes to **represent qubits based on the physical structure of the quantum computing device**. The type of qubit used can impact the quantum operations that are allowed and the way these operations can be arranged."
   ]
  },
  {
   "cell_type": "markdown",
   "id": "ca29d3b6",
   "metadata": {},
   "source": [
    "#### Named Qubit"
   ]
  },
  {
   "cell_type": "markdown",
   "id": "5c1e7545",
   "metadata": {},
   "source": [
    "`cirq.NamedQubit`: the most abstract type of qubit. It's essentially **an identifier for a qubit and has no additional attributes or structure**. You'd use this type when you just need a reference for a qubit and you don't need to create many qubits at once."
   ]
  },
  {
   "cell_type": "markdown",
   "id": "cea19415",
   "metadata": {},
   "source": [
    "#### Line Qubit"
   ]
  },
  {
   "cell_type": "markdown",
   "id": "ac4d09ab",
   "metadata": {},
   "source": [
    "`cirq.LineQubit`: this qubit is identified by an integer index and is particularly **useful for representing linear arrangements of qubits**, as are found in some quantum computing devices."
   ]
  }
 ],
 "metadata": {
  "kernelspec": {
   "display_name": "Python 3 (ipykernel)",
   "language": "python",
   "name": "python3"
  },
  "language_info": {
   "codemirror_mode": {
    "name": "ipython",
    "version": 3
   },
   "file_extension": ".py",
   "mimetype": "text/x-python",
   "name": "python",
   "nbconvert_exporter": "python",
   "pygments_lexer": "ipython3",
   "version": "3.9.17"
  }
 },
 "nbformat": 4,
 "nbformat_minor": 5
}
