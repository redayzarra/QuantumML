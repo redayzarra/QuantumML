{
 "cells": [
  {
   "cell_type": "markdown",
   "id": "b2a368ed",
   "metadata": {},
   "source": [
    "# Notes: Circuit Construction"
   ]
  },
  {
   "cell_type": "markdown",
   "id": "7dc1ff4a",
   "metadata": {},
   "source": [
    "### by ReDay Zarra"
   ]
  },
  {
   "cell_type": "markdown",
   "id": "3184a087",
   "metadata": {},
   "source": [
    "## Setup"
   ]
  },
  {
   "cell_type": "code",
   "execution_count": 1,
   "id": "d75b14cb",
   "metadata": {},
   "outputs": [
    {
     "name": "stdout",
     "output_type": "stream",
     "text": [
      "3.9.17 (main, Jun  6 2023, 20:11:21) \n",
      "[GCC 11.3.0]\n"
     ]
    }
   ],
   "source": [
    "import sys\n",
    "print(sys.version)"
   ]
  },
  {
   "cell_type": "code",
   "execution_count": 2,
   "id": "0fa2fa3d",
   "metadata": {},
   "outputs": [
    {
     "data": {
      "text/plain": [
       "<module 'pkg_resources' from '/usr/lib/python3/dist-packages/pkg_resources/__init__.py'>"
      ]
     },
     "execution_count": 2,
     "metadata": {},
     "output_type": "execute_result"
    }
   ],
   "source": [
    "import importlib, pkg_resources\n",
    "importlib.reload(pkg_resources)"
   ]
  },
  {
   "cell_type": "code",
   "execution_count": 3,
   "id": "b3c499bc",
   "metadata": {},
   "outputs": [
    {
     "name": "stderr",
     "output_type": "stream",
     "text": [
      "2023-07-01 07:25:56.409971: W tensorflow/stream_executor/platform/default/dso_loader.cc:64] Could not load dynamic library 'libcudart.so.11.0'; dlerror: libcudart.so.11.0: cannot open shared object file: No such file or directory\n",
      "2023-07-01 07:25:56.410018: I tensorflow/stream_executor/cuda/cudart_stub.cc:29] Ignore above cudart dlerror if you do not have a GPU set up on your machine.\n",
      "/usr/lib/python3/dist-packages/pkg_resources/__init__.py:116: PkgResourcesDeprecationWarning: 1.1build1 is an invalid version and will not be supported in a future release\n",
      "  warnings.warn(\n",
      "2023-07-01 07:26:00.258118: W tensorflow/stream_executor/platform/default/dso_loader.cc:64] Could not load dynamic library 'libcuda.so.1'; dlerror: libcuda.so.1: cannot open shared object file: No such file or directory\n",
      "2023-07-01 07:26:00.258175: W tensorflow/stream_executor/cuda/cuda_driver.cc:269] failed call to cuInit: UNKNOWN ERROR (303)\n",
      "2023-07-01 07:26:00.258290: I tensorflow/stream_executor/cuda/cuda_diagnostics.cc:156] kernel driver does not appear to be running on this host (Bruno): /proc/driver/nvidia/version does not exist\n",
      "2023-07-01 07:26:00.258722: I tensorflow/core/platform/cpu_feature_guard.cc:151] This TensorFlow binary is optimized with oneAPI Deep Neural Network Library (oneDNN) to use the following CPU instructions in performance-critical operations:  AVX2 FMA\n",
      "To enable them in other operations, rebuild TensorFlow with the appropriate compiler flags.\n"
     ]
    }
   ],
   "source": [
    "import tensorflow as tf\n",
    "import tensorflow_quantum as tfq\n",
    "\n",
    "import cirq\n",
    "import sympy\n",
    "import numpy as np"
   ]
  },
  {
   "cell_type": "code",
   "execution_count": 4,
   "id": "cdabe4fc",
   "metadata": {},
   "outputs": [],
   "source": [
    "# Visualization tools: matplotlib and Cirq's svg circuit\n",
    "%matplotlib inline\n",
    "import matplotlib.pyplot as plt\n",
    "from cirq.contrib.svg import SVGCircuit"
   ]
  },
  {
   "cell_type": "code",
   "execution_count": 5,
   "id": "75e1ccd8",
   "metadata": {
    "scrolled": true
   },
   "outputs": [
    {
     "name": "stdout",
     "output_type": "stream",
     "text": [
      "TensorFlow version:  2.7.0\n",
      "TensorFlow Quantum version:  0.7.2\n",
      "Cirq version:  1.1.0\n"
     ]
    }
   ],
   "source": [
    "print(\"TensorFlow version: \", tf.__version__)\n",
    "print(\"TensorFlow Quantum version: \", tfq.__version__)\n",
    "print(\"Cirq version: \", cirq.__version__)"
   ]
  },
  {
   "cell_type": "markdown",
   "id": "b6bce188",
   "metadata": {},
   "source": [
    "## Circuit Construction"
   ]
  },
  {
   "cell_type": "markdown",
   "id": "49c319cb",
   "metadata": {},
   "source": [
    "### Appending Moments"
   ]
  },
  {
   "cell_type": "markdown",
   "id": "705c7f08",
   "metadata": {},
   "source": [
    "There are several ways to construct circuits in Cirq. One of the most common is by appending operations or lists of operations to the circuit using the `Circuit.append` method. This is a **more straightforward and readable way of creating circuits** compared to creating individual `cirq.Moment` objects and adding them one by one."
   ]
  },
  {
   "cell_type": "code",
   "execution_count": 8,
   "id": "61344f14",
   "metadata": {},
   "outputs": [
    {
     "name": "stdout",
     "output_type": "stream",
     "text": [
      "(0, 0): ───@───\n",
      "           │\n",
      "(1, 0): ───@───\n",
      "\n",
      "(2, 0): ───H───\n"
     ]
    }
   ],
   "source": [
    "# Create three qubits then create an empty circuit\n",
    "q0, q1, q2 = [cirq.GridQubit(i, 0) for i in range(3)]\n",
    "circuit = cirq.Circuit()\n",
    "\n",
    "# Add to operations to the circuit: controlled-Z on first two qubits, and Hadamard on third\n",
    "# Since the operations are together in a list, they are put into the same Moment\n",
    "circuit.append([cirq.CZ(q0, q1), cirq.H(q2)])\n",
    "\n",
    "print(circuit)"
   ]
  },
  {
   "cell_type": "code",
   "execution_count": 9,
   "id": "e151c9f7",
   "metadata": {},
   "outputs": [
    {
     "name": "stdout",
     "output_type": "stream",
     "text": [
      "(0, 0): ───@───H───\n",
      "           │\n",
      "(1, 0): ───@───@───\n",
      "               │\n",
      "(2, 0): ───H───@───\n"
     ]
    }
   ],
   "source": [
    "# We can keep adding more Moments to the qubit\n",
    "circuit.append([cirq.H(q0), cirq.CZ(q1, q2)])\n",
    "print(circuit)"
   ]
  },
  {
   "cell_type": "markdown",
   "id": "6920acf0",
   "metadata": {},
   "source": [
    "### InsertStrategies"
   ]
  },
  {
   "cell_type": "markdown",
   "id": "828187ff",
   "metadata": {},
   "source": [
    "An interesting feature in `Circuit.append` is when you append multiple operations at once, not as separate lists but in the same list, the `Circuit.append` method will **automatically figure out how to divide them into Moments**. This is done based on the `InsertStrategy` that you use.\n",
    "\n",
    "The default strategy is `InsertStrategy.EARLIEST`. This strategy **tries to add operations into the earliest possible Moment where they fit**, i.e., where there are no conflicts with other operations. \n",
    "\n",
    "The `InsertStrategy` enum in Cirq controls how operations are placed in a circuit when they are added to it. There are **four such strategies**: `InsertStrategy.EARLIEST`, `InsertStrategy.NEW`, `InsertStrategy.INLINE` and `InsertStrategy.NEW_THEN_INLINE`."
   ]
  },
  {
   "cell_type": "code",
   "execution_count": 10,
   "id": "7db816f0",
   "metadata": {},
   "outputs": [
    {
     "name": "stdout",
     "output_type": "stream",
     "text": [
      "(0, 0): ───@───H───\n",
      "           │\n",
      "(1, 0): ───@───@───\n",
      "               │\n",
      "(2, 0): ───H───@───\n"
     ]
    }
   ],
   "source": [
    "# Creates an empty circuit\n",
    "circuit = cirq.Circuit()\n",
    "\n",
    "# Operations that operate on different qubits will be added to the same Moment\n",
    "# This automatically creates two different Moments - first come, first serve basis\n",
    "circuit.append([cirq.CZ(q0, q1), cirq.H(q2), cirq.H(q0), cirq.CZ(q1, q2)])\n",
    "print(circuit)"
   ]
  },
  {
   "cell_type": "markdown",
   "id": "424b1bc2",
   "metadata": {},
   "source": [
    "#### InsertStrategy.EARLIEST"
   ]
  },
  {
   "cell_type": "markdown",
   "id": "62f99714",
   "metadata": {},
   "source": [
    "`InsertStrategy.EARLIEST`:  The default strategy scans backwards from the insert location until it finds a moment with operations touching qubits affected by the operation to insert. The operation is added to the moment just after that location. In other words, it tries to put the operation as early as possible in the circuit."
   ]
  },
  {
   "cell_type": "code",
   "execution_count": 13,
   "id": "fcad59d1",
   "metadata": {},
   "outputs": [
    {
     "name": "stdout",
     "output_type": "stream",
     "text": [
      "(0, 0): ───@───H───\n",
      "           │\n",
      "(1, 0): ───@───────\n",
      "\n",
      "(2, 0): ───H───────\n"
     ]
    }
   ],
   "source": [
    "from cirq.circuits import InsertStrategy\n",
    "\n",
    "# Create an empty circuit\n",
    "circuit = cirq.Circuit()\n",
    "\n",
    "# Adding first moment to the circuit\n",
    "circuit.append([cirq.CZ(q0, q1)])\n",
    "\n",
    "# Since q2 isn't doing anything, the Hadamard operation will be put into the first Moment\n",
    "# However, since q0 is busy, the Hadamard operation for q0 will be put into a different Moment\n",
    "circuit.append([cirq.H(q0), cirq.H(q2)], strategy=InsertStrategy.EARLIEST)\n",
    "\n",
    "print(circuit)"
   ]
  },
  {
   "cell_type": "markdown",
   "id": "c95baa37",
   "metadata": {},
   "source": [
    "#### InsertStrategy.NEW"
   ]
  },
  {
   "cell_type": "markdown",
   "id": "2e93fd0b",
   "metadata": {},
   "source": [
    "`InsertStrategy.NEW`: This strategy always starts a new moment for the inserted operations, regardless of the operations already in the circuit. This means the operation will be placed in a moment that happens after all existing moments."
   ]
  },
  {
   "cell_type": "code",
   "execution_count": 16,
   "id": "6d4e017c",
   "metadata": {},
   "outputs": [
    {
     "name": "stdout",
     "output_type": "stream",
     "text": [
      "(0, 0): ───H───────────\n",
      "\n",
      "(1, 0): ───────H───────\n",
      "\n",
      "(2, 0): ───────────H───\n"
     ]
    }
   ],
   "source": [
    "# Create a new circuit\n",
    "circuit = cirq.Circuit()\n",
    "\n",
    "# Each of these operations will create their own moment\n",
    "circuit.append([cirq.H(q0), cirq.H(q1), cirq.H(q2)], strategy=InsertStrategy.NEW)\n",
    "print(circuit)"
   ]
  },
  {
   "cell_type": "markdown",
   "id": "41aa9a2a",
   "metadata": {},
   "source": [
    "#### InsertStrategy.INLINE"
   ]
  },
  {
   "cell_type": "markdown",
   "id": "80964a37",
   "metadata": {},
   "source": [
    "`InsertStrategy.INLINE`: This strategy attempts to add the operation to the latest existing moment it can, but only if that doesn't cause the operation to overlap with other operations."
   ]
  },
  {
   "cell_type": "code",
   "execution_count": 18,
   "id": "e9fe5da5",
   "metadata": {
    "scrolled": true
   },
   "outputs": [
    {
     "name": "stdout",
     "output_type": "stream",
     "text": [
      "(0, 0): ───────H───────\n",
      "\n",
      "(1, 0): ───@───@───H───\n",
      "           │   │\n",
      "(2, 0): ───@───@───H───\n"
     ]
    }
   ],
   "source": [
    "# Create a new circuit\n",
    "circuit = cirq.Circuit()\n",
    "\n",
    "# Add two Moments containing controlled-Z gate operations\n",
    "circuit.append([cirq.CZ(q1, q2)])\n",
    "circuit.append([cirq.CZ(q1, q2)])\n",
    "\n",
    "# The Hadamard gate on q0 can be added to the last Moment, while the other two Hadamard gates cannot\n",
    "circuit.append([cirq.H(q0), cirq.H(q1), cirq.H(q2)], strategy=InsertStrategy.INLINE)\n",
    "\n",
    "print(circuit)"
   ]
  },
  {
   "cell_type": "markdown",
   "id": "b9067bb3",
   "metadata": {},
   "source": [
    "#### InsertStrategy.NEW_THEN_INLINE"
   ]
  },
  {
   "cell_type": "markdown",
   "id": "fe0acd28",
   "metadata": {},
   "source": [
    "`InsertStrategy.NEW_THEN_INLINE`: This strategy is a combination of NEW and INLINE. It's like INLINE but when operations can't be added to an existing moment, a new moment is started."
   ]
  },
  {
   "cell_type": "code",
   "execution_count": 20,
   "id": "4d52f904",
   "metadata": {},
   "outputs": [
    {
     "name": "stdout",
     "output_type": "stream",
     "text": [
      "(0, 0): ───H───H───\n",
      "\n",
      "(1, 0): ───────@───\n",
      "               │\n",
      "(2, 0): ───────@───\n"
     ]
    }
   ],
   "source": [
    "# Create a new circuit\n",
    "circuit = cirq.Circuit()\n",
    "\n",
    "# Create a Moment containing a Hadamard gate operation at q0\n",
    "circuit.append([cirq.H(q0)])\n",
    "\n",
    "# Create a new Moment then add the operations according to InsertStrategy.INLINE\n",
    "circuit.append([cirq.CZ(q1, q2), cirq.H(q0)], strategy=InsertStrategy.NEW_THEN_INLINE)\n",
    "\n",
    "print(circuit)"
   ]
  }
 ],
 "metadata": {
  "kernelspec": {
   "display_name": "Python 3 (ipykernel)",
   "language": "python",
   "name": "python3"
  },
  "language_info": {
   "codemirror_mode": {
    "name": "ipython",
    "version": 3
   },
   "file_extension": ".py",
   "mimetype": "text/x-python",
   "name": "python",
   "nbconvert_exporter": "python",
   "pygments_lexer": "ipython3",
   "version": "3.9.17"
  }
 },
 "nbformat": 4,
 "nbformat_minor": 5
}
