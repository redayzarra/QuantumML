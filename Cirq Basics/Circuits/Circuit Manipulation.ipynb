{
 "cells": [
  {
   "cell_type": "markdown",
   "id": "b2a368ed",
   "metadata": {},
   "source": [
    "# Notes: Circuit Manipulation"
   ]
  },
  {
   "cell_type": "markdown",
   "id": "7dc1ff4a",
   "metadata": {},
   "source": [
    "### by ReDay Zarra"
   ]
  },
  {
   "cell_type": "markdown",
   "id": "3184a087",
   "metadata": {},
   "source": [
    "## Setup"
   ]
  },
  {
   "cell_type": "code",
   "execution_count": 1,
   "id": "d75b14cb",
   "metadata": {},
   "outputs": [
    {
     "name": "stdout",
     "output_type": "stream",
     "text": [
      "3.9.17 (main, Jun  6 2023, 20:11:21) \n",
      "[GCC 11.3.0]\n"
     ]
    }
   ],
   "source": [
    "import sys\n",
    "print(sys.version)"
   ]
  },
  {
   "cell_type": "code",
   "execution_count": 2,
   "id": "0fa2fa3d",
   "metadata": {},
   "outputs": [
    {
     "data": {
      "text/plain": [
       "<module 'pkg_resources' from '/usr/lib/python3/dist-packages/pkg_resources/__init__.py'>"
      ]
     },
     "execution_count": 2,
     "metadata": {},
     "output_type": "execute_result"
    }
   ],
   "source": [
    "import importlib, pkg_resources\n",
    "importlib.reload(pkg_resources)"
   ]
  },
  {
   "cell_type": "code",
   "execution_count": 3,
   "id": "b3c499bc",
   "metadata": {},
   "outputs": [
    {
     "name": "stderr",
     "output_type": "stream",
     "text": [
      "2023-07-02 12:56:37.121980: W tensorflow/stream_executor/platform/default/dso_loader.cc:64] Could not load dynamic library 'libcudart.so.11.0'; dlerror: libcudart.so.11.0: cannot open shared object file: No such file or directory\n",
      "2023-07-02 12:56:37.122029: I tensorflow/stream_executor/cuda/cudart_stub.cc:29] Ignore above cudart dlerror if you do not have a GPU set up on your machine.\n",
      "/usr/lib/python3/dist-packages/pkg_resources/__init__.py:116: PkgResourcesDeprecationWarning: 1.1build1 is an invalid version and will not be supported in a future release\n",
      "  warnings.warn(\n",
      "2023-07-02 12:56:41.693866: W tensorflow/stream_executor/platform/default/dso_loader.cc:64] Could not load dynamic library 'libcuda.so.1'; dlerror: libcuda.so.1: cannot open shared object file: No such file or directory\n",
      "2023-07-02 12:56:41.693932: W tensorflow/stream_executor/cuda/cuda_driver.cc:269] failed call to cuInit: UNKNOWN ERROR (303)\n",
      "2023-07-02 12:56:41.693976: I tensorflow/stream_executor/cuda/cuda_diagnostics.cc:156] kernel driver does not appear to be running on this host (Bruno): /proc/driver/nvidia/version does not exist\n",
      "2023-07-02 12:56:41.694388: I tensorflow/core/platform/cpu_feature_guard.cc:151] This TensorFlow binary is optimized with oneAPI Deep Neural Network Library (oneDNN) to use the following CPU instructions in performance-critical operations:  AVX2 FMA\n",
      "To enable them in other operations, rebuild TensorFlow with the appropriate compiler flags.\n"
     ]
    }
   ],
   "source": [
    "import tensorflow as tf\n",
    "import tensorflow_quantum as tfq\n",
    "\n",
    "import cirq\n",
    "import sympy\n",
    "import numpy as np"
   ]
  },
  {
   "cell_type": "code",
   "execution_count": 4,
   "id": "cdabe4fc",
   "metadata": {},
   "outputs": [],
   "source": [
    "# Visualization tools: matplotlib and Cirq's svg circuit\n",
    "%matplotlib inline\n",
    "import matplotlib.pyplot as plt\n",
    "from cirq.contrib.svg import SVGCircuit"
   ]
  },
  {
   "cell_type": "code",
   "execution_count": 5,
   "id": "75e1ccd8",
   "metadata": {
    "scrolled": true
   },
   "outputs": [
    {
     "name": "stdout",
     "output_type": "stream",
     "text": [
      "TensorFlow version:  2.7.0\n",
      "TensorFlow Quantum version:  0.7.2\n",
      "Cirq version:  1.1.0\n"
     ]
    }
   ],
   "source": [
    "print(\"TensorFlow version: \", tf.__version__)\n",
    "print(\"TensorFlow Quantum version: \", tfq.__version__)\n",
    "print(\"Cirq version: \", cirq.__version__)"
   ]
  },
  {
   "cell_type": "markdown",
   "id": "162f204a",
   "metadata": {},
   "source": [
    "## Circuit Manipulation"
   ]
  },
  {
   "cell_type": "markdown",
   "id": "435c5d5a",
   "metadata": {},
   "source": [
    "### Patterns for Arguments"
   ]
  },
  {
   "cell_type": "markdown",
   "id": "bb8bc569",
   "metadata": {},
   "source": [
    "Generator: a Python function that uses the yield keyword to return an iterable sequence of items.\n",
    "\n",
    "In Cirq, `my_layer()` is a generator function that yields a sequence of operations and collections of operations. Each `yield` statement in the function produces a new item in the sequence. These items can be individual operations, lists of operations, or nested lists of operations."
   ]
  },
  {
   "cell_type": "code",
   "execution_count": 8,
   "id": "1afbb4bf",
   "metadata": {},
   "outputs": [
    {
     "name": "stdout",
     "output_type": "stream",
     "text": [
      "CZ(q(0, 0), q(1, 0))\n",
      "[cirq.H(cirq.GridQubit(0, 0)), cirq.H(cirq.GridQubit(1, 0)), cirq.H(cirq.GridQubit(2, 0))]\n",
      "[cirq.CZ(cirq.GridQubit(1, 0), cirq.GridQubit(2, 0))]\n",
      "[cirq.H(cirq.GridQubit(0, 0)), [cirq.CZ(cirq.GridQubit(1, 0), cirq.GridQubit(2, 0))]]\n"
     ]
    }
   ],
   "source": [
    "# Define qubits\n",
    "q0, q1, q2 = [cirq.GridQubit(i, 0) for i in range(3)]\n",
    "\n",
    "# Produces a series of quantum operations and collections of operations.\n",
    "def my_layer():\n",
    "    yield cirq.CZ(q0, q1)\n",
    "    yield [cirq.H(q) for q in (q0, q1, q2)]\n",
    "    yield [cirq.CZ(q1, q2)]\n",
    "    yield [cirq.H(q0), [cirq.CZ(q1, q2)]]\n",
    "\n",
    "# Create new circuit and add all operations yielded by the generator\n",
    "circuit = cirq.Circuit()\n",
    "circuit.append(my_layer())\n",
    "\n",
    "for x in my_layer():\n",
    "    print(x)"
   ]
  },
  {
   "cell_type": "code",
   "execution_count": 9,
   "id": "92d53d63",
   "metadata": {},
   "outputs": [
    {
     "name": "stdout",
     "output_type": "stream",
     "text": [
      "(0, 0): ───@───H───H───────\n",
      "           │\n",
      "(1, 0): ───@───H───@───@───\n",
      "                   │   │\n",
      "(2, 0): ───H───────@───@───\n"
     ]
    }
   ],
   "source": [
    "print(circuit)"
   ]
  },
  {
   "cell_type": "markdown",
   "id": "e5e2aa85",
   "metadata": {},
   "source": [
    "The `Circuit.append` (or `Circuit.insert`) is able to accept an iterator and turn it into a simple, one-dimensional list of operations. This process is called \"**flattening**\", because it takes a potentially complex, multi-layered structure and **turns it into a simple list**.\n",
    "\n",
    "`cirq.OP_TREE`: it's a kind of contract or promise about the structure of the data. If you have an iterable structure (like a list, or a generator function) that **can be flattened into a list of operations** (or Moment objects, which are themselves just collections of operations), **then that structure is considered an** `OP_TREE`.\n",
    "\n",
    "**Sub-circuits**: is just a **part of a larger quantum circuit**, and a generator function is a convenient way to generate these sub-circuits on the fly. Because these generator functions can accept arguments, you can easily adjust the size of the sub-circuits or the parameters of the operations within them, which can make your code much more flexible and powerful."
   ]
  },
  {
   "cell_type": "code",
   "execution_count": 11,
   "id": "b54211dc",
   "metadata": {},
   "outputs": [
    {
     "name": "stdout",
     "output_type": "stream",
     "text": [
      "(0, 0): ───H───\n",
      "\n",
      "(1, 0): ───H───\n"
     ]
    }
   ],
   "source": [
    "circuit = cirq.Circuit(cirq.H(q0), cirq.H(q1))\n",
    "print(circuit)"
   ]
  }
 ],
 "metadata": {
  "kernelspec": {
   "display_name": "Python 3 (ipykernel)",
   "language": "python",
   "name": "python3"
  },
  "language_info": {
   "codemirror_mode": {
    "name": "ipython",
    "version": 3
   },
   "file_extension": ".py",
   "mimetype": "text/x-python",
   "name": "python",
   "nbconvert_exporter": "python",
   "pygments_lexer": "ipython3",
   "version": "3.9.17"
  }
 },
 "nbformat": 4,
 "nbformat_minor": 5
}
