{
 "cells": [
  {
   "cell_type": "markdown",
   "id": "b2a368ed",
   "metadata": {},
   "source": [
    "# TFQ: Hello, many worlds - Cirq 1.1.0"
   ]
  },
  {
   "cell_type": "markdown",
   "id": "7dc1ff4a",
   "metadata": {},
   "source": [
    "### by ReDay Zarra"
   ]
  },
  {
   "cell_type": "markdown",
   "id": "3184a087",
   "metadata": {},
   "source": [
    "## Setup"
   ]
  },
  {
   "cell_type": "code",
   "execution_count": 1,
   "id": "d75b14cb",
   "metadata": {},
   "outputs": [
    {
     "name": "stdout",
     "output_type": "stream",
     "text": [
      "3.9.17 (main, Jun  6 2023, 20:11:21) \n",
      "[GCC 11.3.0]\n"
     ]
    }
   ],
   "source": [
    "import sys\n",
    "print(sys.version)"
   ]
  },
  {
   "cell_type": "code",
   "execution_count": 2,
   "id": "0fa2fa3d",
   "metadata": {},
   "outputs": [
    {
     "data": {
      "text/plain": [
       "<module 'pkg_resources' from '/usr/lib/python3/dist-packages/pkg_resources/__init__.py'>"
      ]
     },
     "execution_count": 2,
     "metadata": {},
     "output_type": "execute_result"
    }
   ],
   "source": [
    "import importlib, pkg_resources\n",
    "importlib.reload(pkg_resources)"
   ]
  },
  {
   "cell_type": "code",
   "execution_count": 3,
   "id": "b3c499bc",
   "metadata": {},
   "outputs": [
    {
     "name": "stderr",
     "output_type": "stream",
     "text": [
      "2023-07-04 05:38:57.909129: W tensorflow/stream_executor/platform/default/dso_loader.cc:64] Could not load dynamic library 'libcudart.so.11.0'; dlerror: libcudart.so.11.0: cannot open shared object file: No such file or directory\n",
      "2023-07-04 05:38:57.909180: I tensorflow/stream_executor/cuda/cudart_stub.cc:29] Ignore above cudart dlerror if you do not have a GPU set up on your machine.\n",
      "/usr/lib/python3/dist-packages/pkg_resources/__init__.py:116: PkgResourcesDeprecationWarning: 1.1build1 is an invalid version and will not be supported in a future release\n",
      "  warnings.warn(\n",
      "2023-07-04 05:39:24.527267: W tensorflow/stream_executor/platform/default/dso_loader.cc:64] Could not load dynamic library 'libcuda.so.1'; dlerror: libcuda.so.1: cannot open shared object file: No such file or directory\n",
      "2023-07-04 05:39:24.527942: W tensorflow/stream_executor/cuda/cuda_driver.cc:269] failed call to cuInit: UNKNOWN ERROR (303)\n",
      "2023-07-04 05:39:24.528007: I tensorflow/stream_executor/cuda/cuda_diagnostics.cc:156] kernel driver does not appear to be running on this host (Bruno): /proc/driver/nvidia/version does not exist\n",
      "2023-07-04 05:39:24.532919: I tensorflow/core/platform/cpu_feature_guard.cc:151] This TensorFlow binary is optimized with oneAPI Deep Neural Network Library (oneDNN) to use the following CPU instructions in performance-critical operations:  AVX2 FMA\n",
      "To enable them in other operations, rebuild TensorFlow with the appropriate compiler flags.\n"
     ]
    }
   ],
   "source": [
    "import tensorflow as tf\n",
    "import tensorflow_quantum as tfq\n",
    "\n",
    "import cirq\n",
    "import sympy\n",
    "import numpy as np"
   ]
  },
  {
   "cell_type": "code",
   "execution_count": 4,
   "id": "cdabe4fc",
   "metadata": {},
   "outputs": [],
   "source": [
    "# Visualization tools: matplotlib and Cirq's svg circuit\n",
    "%matplotlib inline\n",
    "import matplotlib.pyplot as plt\n",
    "from cirq.contrib.svg import SVGCircuit"
   ]
  },
  {
   "cell_type": "code",
   "execution_count": 5,
   "id": "75e1ccd8",
   "metadata": {},
   "outputs": [
    {
     "name": "stdout",
     "output_type": "stream",
     "text": [
      "TensorFlow version:  2.7.0\n",
      "TensorFlow Quantum version:  0.7.2\n",
      "Cirq version:  1.1.0\n"
     ]
    }
   ],
   "source": [
    "print(\"TensorFlow version: \", tf.__version__)\n",
    "print(\"TensorFlow Quantum version: \", tfq.__version__)\n",
    "print(\"Cirq version: \", cirq.__version__)"
   ]
  },
  {
   "cell_type": "markdown",
   "id": "55c26db3",
   "metadata": {},
   "source": [
    "## 1. Basics"
   ]
  },
  {
   "cell_type": "markdown",
   "id": "00301560",
   "metadata": {},
   "source": [
    "### 1.1 Cirq and parameterized quantum circuits"
   ]
  },
  {
   "cell_type": "code",
   "execution_count": 6,
   "id": "065e660d",
   "metadata": {
    "scrolled": false
   },
   "outputs": [
    {
     "name": "stderr",
     "output_type": "stream",
     "text": [
      "findfont: Font family 'Arial' not found.\n",
      "findfont: Font family 'Arial' not found.\n",
      "findfont: Font family 'Arial' not found.\n",
      "findfont: Font family 'Arial' not found.\n",
      "findfont: Font family 'Arial' not found.\n",
      "findfont: Font family 'Arial' not found.\n"
     ]
    },
    {
     "data": {
      "image/svg+xml": [
       "<svg xmlns=\"http://www.w3.org/2000/svg\" width=\"234.4567578125\" height=\"100.0\"><line x1=\"34.7588671875\" x2=\"204.4567578125\" y1=\"25.0\" y2=\"25.0\" stroke=\"#1967d2\" stroke-width=\"1\" /><line x1=\"34.7588671875\" x2=\"204.4567578125\" y1=\"75.0\" y2=\"75.0\" stroke=\"#1967d2\" stroke-width=\"1\" /><line x1=\"164.4567578125\" x2=\"164.4567578125\" y1=\"25.0\" y2=\"75.0\" stroke=\"black\" stroke-width=\"3\" /><rect x=\"10.0\" y=\"5.0\" width=\"49.517734375\" height=\"40\" stroke=\"black\" fill=\"white\" stroke-width=\"0\" /><text x=\"34.7588671875\" y=\"25.0\" dominant-baseline=\"middle\" text-anchor=\"middle\" font-size=\"14px\" font-family=\"Arial\">(0, 0): </text><rect x=\"10.0\" y=\"55.0\" width=\"49.517734375\" height=\"40\" stroke=\"black\" fill=\"white\" stroke-width=\"0\" /><text x=\"34.7588671875\" y=\"75.0\" dominant-baseline=\"middle\" text-anchor=\"middle\" font-size=\"14px\" font-family=\"Arial\">(0, 1): </text><rect x=\"79.517734375\" y=\"5.0\" width=\"44.9390234375\" height=\"40\" stroke=\"black\" fill=\"white\" stroke-width=\"1\" /><text x=\"101.98724609375\" y=\"25.0\" dominant-baseline=\"middle\" text-anchor=\"middle\" font-size=\"14px\" font-family=\"Arial\">Rx(a)</text><rect x=\"79.517734375\" y=\"55.0\" width=\"44.9390234375\" height=\"40\" stroke=\"black\" fill=\"white\" stroke-width=\"1\" /><text x=\"101.98724609375\" y=\"75.0\" dominant-baseline=\"middle\" text-anchor=\"middle\" font-size=\"14px\" font-family=\"Arial\">Ry(b)</text><circle cx=\"164.4567578125\" cy=\"25.0\" r=\"10.0\" /><rect x=\"144.4567578125\" y=\"55.0\" width=\"40\" height=\"40\" stroke=\"black\" fill=\"white\" stroke-width=\"1\" /><text x=\"164.4567578125\" y=\"75.0\" dominant-baseline=\"middle\" text-anchor=\"middle\" font-size=\"18px\" font-family=\"Arial\">X</text></svg>"
      ],
      "text/plain": [
       "<cirq.contrib.svg.svg.SVGCircuit at 0x7f92aff0c910>"
      ]
     },
     "execution_count": 6,
     "metadata": {},
     "output_type": "execute_result"
    }
   ],
   "source": [
    "# Cirq uses SymPy symbols to represent free parameters\n",
    "a, b = sympy.symbols('a b')\n",
    "\n",
    "# Create two Grid qubits using our parameters\n",
    "q0, q1 = cirq.GridQubit.rect(1, 2)\n",
    "\n",
    "# Create a circuit on these qubits using the parameters we created above\n",
    "circuit = cirq.Circuit(\n",
    "    cirq.rx(a)(q0),\n",
    "    cirq.ry(b)(q1), \n",
    "    cirq.CNOT(q0, q1))\n",
    "\n",
    "# Display the circuit using SVGCircuit - you can also print(circuit)\n",
    "SVGCircuit(circuit)"
   ]
  },
  {
   "cell_type": "markdown",
   "id": "7d54e4ef",
   "metadata": {},
   "source": [
    "#### Cirq Simulator"
   ]
  },
  {
   "cell_type": "markdown",
   "id": "823beb24",
   "metadata": {},
   "source": [
    "We can evaluate the quantum circuit created in the previous block with specific parameter values for the `a` and `b` parameters. Use the `cirq.Simulator` class which provides methods to **simulate the circuit and obtain the final state** of the quantum system."
   ]
  },
  {
   "cell_type": "code",
   "execution_count": 7,
   "id": "fedf6122",
   "metadata": {},
   "outputs": [
    {
     "name": "stdout",
     "output_type": "stream",
     "text": [
      "[ 0.9387913 +0.j         -0.23971277+0.j          0.        +0.06120872j\n",
      "  0.        -0.23971277j]\n"
     ]
    }
   ],
   "source": [
    "# Calculate a state vector with a = 0.5 and b = -0.5.\n",
    "resolver = cirq.ParamResolver({a: 0.5, b: -0.5})\n",
    "\n",
    "# Run the simulation with the parameter values on quantum circuit\n",
    "output_state_vector = cirq.Simulator().simulate(circuit, resolver).final_state_vector\n",
    "print(output_state_vector)"
   ]
  },
  {
   "cell_type": "markdown",
   "id": "6671a6e1",
   "metadata": {},
   "source": [
    "After the resolver is created, it is passed to the `simulate` method of a `cirq.Simulator` object along with the circuit to be simulated. The `simulate` method performs the simulation and returns a `SimulationTrialResult` object. The `final_state_vector` attribute of the result is accessed to obtain the final state of the quantum system as a complex numpy array. **Each element of the array corresponds to the amplitude of the respective basis state.**"
   ]
  },
  {
   "cell_type": "markdown",
   "id": "5ec4d95f",
   "metadata": {},
   "source": [
    "#### State Vectors"
   ]
  },
  {
   "cell_type": "markdown",
   "id": "ba46f035",
   "metadata": {},
   "source": [
    "**State Vectors**: a mathematical representation of the state of a quantum system. It's a complex vector that contains amplitude probabilities for each possible state of the system, and its size is 2^n, where n is the number of qubits in the system.\n",
    "\n",
    "However, when a quantum system is measured, **it collapses to one of its basis states**, and this is the **only information that we can obtain in a real-world**, physical quantum computer. We **cannot directly observe the state vector; it's a theoretical concept** useful for computations and reasoning about quantum systems, but it can't be accessed or measured directly in physical experiments or in quantum hardware."
   ]
  },
  {
   "cell_type": "code",
   "execution_count": 8,
   "id": "e5f0ddad",
   "metadata": {},
   "outputs": [
    {
     "data": {
      "text/plain": [
       "0.8775825500488281"
      ]
     },
     "execution_count": 8,
     "metadata": {},
     "output_type": "execute_result"
    }
   ],
   "source": [
    "# Create a Z operator (Pauli Z gate) on the q0 qubit\n",
    "z0 = cirq.Z(q0)\n",
    "\n",
    "# Map the qubits to the indices in the state vector\n",
    "qubit_map={q0: 0, q1: 1}\n",
    "\n",
    "# Calculate the expectation value of this operator with respect to the provided state vector\n",
    "z0.expectation_from_state_vector(output_state_vector, qubit_map).real"
   ]
  },
  {
   "cell_type": "markdown",
   "id": "d53873f4",
   "metadata": {},
   "source": [
    "In quantum computing, we can **calculate the expectation value of an operator, given a particular quantum state**. The expectation value gives us the **average result** if we were to measure the operator on multiple identically prepared quantum states. \n",
    "\n",
    "The expectation value of an operator is **calculated by taking the dot product of the state vector with the operator** applied to the state vector."
   ]
  },
  {
   "cell_type": "code",
   "execution_count": 9,
   "id": "168d4d14",
   "metadata": {},
   "outputs": [
    {
     "data": {
      "text/plain": [
       "-0.04063427448272705"
      ]
     },
     "execution_count": 9,
     "metadata": {},
     "output_type": "execute_result"
    }
   ],
   "source": [
    "# Create a new opertor - linear combo of the Z operator on q0 and X operator on q1\n",
    "z0x1 = 0.5 * z0 + cirq.X(q1)\n",
    "\n",
    "# Calculate expectation value of new operator with respect to the same state vector\n",
    "z0x1.expectation_from_state_vector(output_state_vector, qubit_map).real"
   ]
  },
  {
   "cell_type": "markdown",
   "id": "5eadc7e1",
   "metadata": {},
   "source": [
    "### 1.2 Quantum circuits as tensors"
   ]
  },
  {
   "cell_type": "markdown",
   "id": "72dbbb12",
   "metadata": {},
   "source": [
    "TFQ allows you to **integrate quantum circuits into TensorFlow's computation graph**, making it easier to integrate quantum computing with classical machine learning."
   ]
  },
  {
   "cell_type": "code",
   "execution_count": 12,
   "id": "ca399628",
   "metadata": {},
   "outputs": [
    {
     "name": "stdout",
     "output_type": "stream",
     "text": [
      "(1,)\n",
      "<dtype: 'string'>\n"
     ]
    }
   ],
   "source": [
    "# Create a Tensorflow tensor from the list containing one circuit\n",
    "circuit_tensor = tfq.convert_to_tensor([circuit])\n",
    "\n",
    "# Access and print the circuit's shape (one-dimensional) and dtype (serialized into a string)\n",
    "print(circuit_tensor.shape)\n",
    "print(circuit_tensor.dtype)"
   ]
  },
  {
   "cell_type": "markdown",
   "id": "528916db",
   "metadata": {},
   "source": [
    "`tfq.convert_to_tensor`: a function that allows you to convert Cirq objects into TensorFlow tensors. \n",
    "\n",
    "**Tensors**: the fundamental data structure used in TensorFlow, and they represent a generalization of arrays and matrices to potentially higher dimensions."
   ]
  },
  {
   "cell_type": "code",
   "execution_count": 13,
   "id": "5b62ae1e",
   "metadata": {},
   "outputs": [
    {
     "data": {
      "text/plain": [
       "TensorShape([2])"
      ]
     },
     "execution_count": 13,
     "metadata": {},
     "output_type": "execute_result"
    }
   ],
   "source": [
    "# Create a tensor from two Pauli operators \n",
    "pauli_tensor = tfq.convert_to_tensor([z0, z0x1])\n",
    "\n",
    "# The tensor's shape is one-dimensional but contains two elements\n",
    "pauli_tensor.shape"
   ]
  },
  {
   "cell_type": "markdown",
   "id": "6fdadbea",
   "metadata": {},
   "source": [
    "### 1.3 Batching circuit simulation"
   ]
  },
  {
   "cell_type": "markdown",
   "id": "5522e088",
   "metadata": {},
   "source": [
    "**Expectation values**: often used in variational quantum algorithms, which iteratively adjust parameters in a quantum circuit to find the minimum expectation value of a given Hamiltonian.\n",
    "\n",
    "`tfq.layers.Expectation`: part of TensorFlow Quantum's interface for calculating expectation values. As a `tf.keras.Layer`, it **integrates directly with TensorFlow's model-building** and training infrastructure."
   ]
  },
  {
   "cell_type": "code",
   "execution_count": 14,
   "id": "d08db19b",
   "metadata": {},
   "outputs": [],
   "source": [
    "batch_vals = np.array(np.random.uniform(0, 2 * np.pi, (5, 2)), dtype=float)"
   ]
  },
  {
   "cell_type": "markdown",
   "id": "72a2dd58",
   "metadata": {},
   "source": [
    "**Parameterized quantum circuit**: a quantum circuit that has symbolic parameters which can be replaced with specific values.\n",
    "\n",
    "The `tfq.layers.Expectation` works by **simulating a parameterized quantum circuit with a set of parameter values** provided in the form of a `cirq.ParamResolver` object. However, the `tfq.layers.Expectation` layer is **designed to handle batches of parameters**, adhering to the standard TensorFlow semantics for batched operations. This makes it possible to **pass multiple sets of parameters at once**, and it will compute the expectation values for all of them, typically leading to **more efficient computation**."
   ]
  },
  {
   "cell_type": "code",
   "execution_count": 15,
   "id": "bad1fecc",
   "metadata": {},
   "outputs": [
    {
     "name": "stdout",
     "output_type": "stream",
     "text": [
      "cirq batch results: \n",
      " [[0.83053619]\n",
      " [0.47591668]\n",
      " [0.12265563]\n",
      " [0.07452005]\n",
      " [0.05271584]]\n"
     ]
    }
   ],
   "source": [
    "cirq_results = []\n",
    "cirq_simulator = cirq.Simulator()\n",
    "\n",
    "# Expectation value is being calculated in a loop over different sets of parameter values\n",
    "for vals in batch_vals:\n",
    "    resolver = cirq.ParamResolver({a: vals[0], b: vals[1]})\n",
    "    final_state_vector = cirq_simulator.simulate(circuit, resolver).final_state_vector\n",
    "    cirq_results.append(\n",
    "        [z0.expectation_from_state_vector(final_state_vector, {\n",
    "            q0: 0,\n",
    "            q1: 1\n",
    "        }).real])\n",
    "\n",
    "print('cirq batch results: \\n {}'.format(np.array(cirq_results)))"
   ]
  },
  {
   "cell_type": "markdown",
   "id": "337a7625",
   "metadata": {},
   "source": [
    "The code above uses Cirq to **simulate the results in a final state vector**, which is a complex vector that encodes the quantum state of the system at the end of the circuit execution."
   ]
  },
  {
   "cell_type": "code",
   "execution_count": 16,
   "id": "49eff110",
   "metadata": {},
   "outputs": [
    {
     "data": {
      "text/plain": [
       "<tf.Tensor: shape=(5, 1), dtype=float32, numpy=\n",
       "array([[0.83053595],\n",
       "       [0.47591832],\n",
       "       [0.12265509],\n",
       "       [0.07451963],\n",
       "       [0.05271763]], dtype=float32)>"
      ]
     },
     "execution_count": 16,
     "metadata": {},
     "output_type": "execute_result"
    }
   ],
   "source": [
    "tfq.layers.Expectation()(circuit,\n",
    "                         symbol_names=[a, b],\n",
    "                         symbol_values=batch_vals,\n",
    "                         operators=z0)"
   ]
  },
  {
   "cell_type": "markdown",
   "id": "78863c97",
   "metadata": {},
   "source": [
    "TFQ can be used to accomplish the same thing in a more efficient way. The `tfq.layers.Expectation` function **creates a layer that computes the expectation values** of the specified operators when the circuit is executed with the given parameter values."
   ]
  },
  {
   "cell_type": "markdown",
   "id": "774f1bb5",
   "metadata": {},
   "source": [
    "## 2. Hybrid quantum-classical optimization"
   ]
  },
  {
   "cell_type": "markdown",
   "id": "60f8e9b8",
   "metadata": {},
   "source": [
    "The term \"hybrid quantum-classical optimization\" refers to the fact that the setup involves **optimizing a classical neural network to control a quantum system**.\n",
    "\n",
    "Hybrid quantum-classical optimization is based on the premise that a **classical neural network is trained to control the state of a single qubit**. The goal is to guide the qubit to reach either the state |0⟩ or the state |1⟩, **overcoming a simulated systematic calibration error.**"
   ]
  },
  {
   "cell_type": "markdown",
   "id": "3e52664e",
   "metadata": {},
   "source": [
    "#### Hybrid System Architecture"
   ]
  },
  {
   "cell_type": "markdown",
   "id": "48d44acd",
   "metadata": {},
   "source": [
    "**Input circuit or datapoint circuit**: a quantum circuit consisting of **the first three 𝜋/8 gates**. These gates prepare the initial state of the qubit, which will then be processed by the rest of the system.\n",
    "\n",
    "**Controlled circuit**: another quantum circuit consisting of **the other three 𝜋/8 gates**. The parameters of these gates, which determine how they transform the qubit's state, are **controlled by the output of the classical neural network**.\n",
    "\n",
    "**Controller**: a classical neural network that takes some **classical data as input and outputs the parameters** for the controlled circuit. The goal of training this network is to **find parameters** that cause the controlled circuit **to drive the qubit to the correct state** (either |0⟩ or |1⟩) for each input."
   ]
  }
 ],
 "metadata": {
  "kernelspec": {
   "display_name": "Python 3 (ipykernel)",
   "language": "python",
   "name": "python3"
  },
  "language_info": {
   "codemirror_mode": {
    "name": "ipython",
    "version": 3
   },
   "file_extension": ".py",
   "mimetype": "text/x-python",
   "name": "python",
   "nbconvert_exporter": "python",
   "pygments_lexer": "ipython3",
   "version": "3.9.17"
  }
 },
 "nbformat": 4,
 "nbformat_minor": 5
}
