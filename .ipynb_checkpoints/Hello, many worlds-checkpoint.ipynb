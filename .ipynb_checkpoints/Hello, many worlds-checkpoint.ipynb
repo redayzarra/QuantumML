{
 "cells": [
  {
   "cell_type": "markdown",
   "id": "b2a368ed",
   "metadata": {},
   "source": [
    "# TFQ: Hello, many worlds - Cirq 1.1.0"
   ]
  },
  {
   "cell_type": "markdown",
   "id": "7dc1ff4a",
   "metadata": {},
   "source": [
    "### by ReDay Zarra"
   ]
  },
  {
   "cell_type": "markdown",
   "id": "3184a087",
   "metadata": {},
   "source": [
    "## Setup"
   ]
  },
  {
   "cell_type": "code",
   "execution_count": 1,
   "id": "d75b14cb",
   "metadata": {},
   "outputs": [
    {
     "name": "stdout",
     "output_type": "stream",
     "text": [
      "3.9.17 (main, Jun  6 2023, 20:11:21) \n",
      "[GCC 11.3.0]\n"
     ]
    }
   ],
   "source": [
    "import sys\n",
    "print(sys.version)"
   ]
  },
  {
   "cell_type": "code",
   "execution_count": 2,
   "id": "0fa2fa3d",
   "metadata": {},
   "outputs": [
    {
     "data": {
      "text/plain": [
       "<module 'pkg_resources' from '/usr/lib/python3/dist-packages/pkg_resources/__init__.py'>"
      ]
     },
     "execution_count": 2,
     "metadata": {},
     "output_type": "execute_result"
    }
   ],
   "source": [
    "import importlib, pkg_resources\n",
    "importlib.reload(pkg_resources)"
   ]
  },
  {
   "cell_type": "code",
   "execution_count": 3,
   "id": "b3c499bc",
   "metadata": {},
   "outputs": [
    {
     "name": "stderr",
     "output_type": "stream",
     "text": [
      "2023-07-04 06:25:02.878398: W tensorflow/stream_executor/platform/default/dso_loader.cc:64] Could not load dynamic library 'libcudart.so.11.0'; dlerror: libcudart.so.11.0: cannot open shared object file: No such file or directory\n",
      "2023-07-04 06:25:02.878450: I tensorflow/stream_executor/cuda/cudart_stub.cc:29] Ignore above cudart dlerror if you do not have a GPU set up on your machine.\n",
      "/usr/lib/python3/dist-packages/pkg_resources/__init__.py:116: PkgResourcesDeprecationWarning: 1.1build1 is an invalid version and will not be supported in a future release\n",
      "  warnings.warn(\n",
      "2023-07-04 06:25:07.192897: W tensorflow/stream_executor/platform/default/dso_loader.cc:64] Could not load dynamic library 'libcuda.so.1'; dlerror: libcuda.so.1: cannot open shared object file: No such file or directory\n",
      "2023-07-04 06:25:07.192956: W tensorflow/stream_executor/cuda/cuda_driver.cc:269] failed call to cuInit: UNKNOWN ERROR (303)\n",
      "2023-07-04 06:25:07.193000: I tensorflow/stream_executor/cuda/cuda_diagnostics.cc:156] kernel driver does not appear to be running on this host (Bruno): /proc/driver/nvidia/version does not exist\n",
      "2023-07-04 06:25:07.193378: I tensorflow/core/platform/cpu_feature_guard.cc:151] This TensorFlow binary is optimized with oneAPI Deep Neural Network Library (oneDNN) to use the following CPU instructions in performance-critical operations:  AVX2 FMA\n",
      "To enable them in other operations, rebuild TensorFlow with the appropriate compiler flags.\n"
     ]
    }
   ],
   "source": [
    "import tensorflow as tf\n",
    "import tensorflow_quantum as tfq\n",
    "\n",
    "import cirq\n",
    "import sympy\n",
    "import numpy as np"
   ]
  },
  {
   "cell_type": "code",
   "execution_count": 4,
   "id": "cdabe4fc",
   "metadata": {},
   "outputs": [],
   "source": [
    "# Visualization tools: matplotlib and Cirq's svg circuit\n",
    "%matplotlib inline\n",
    "import matplotlib.pyplot as plt\n",
    "from cirq.contrib.svg import SVGCircuit"
   ]
  },
  {
   "cell_type": "code",
   "execution_count": 5,
   "id": "75e1ccd8",
   "metadata": {},
   "outputs": [
    {
     "name": "stdout",
     "output_type": "stream",
     "text": [
      "TensorFlow version:  2.7.0\n",
      "TensorFlow Quantum version:  0.7.2\n",
      "Cirq version:  1.1.0\n"
     ]
    }
   ],
   "source": [
    "print(\"TensorFlow version: \", tf.__version__)\n",
    "print(\"TensorFlow Quantum version: \", tfq.__version__)\n",
    "print(\"Cirq version: \", cirq.__version__)"
   ]
  },
  {
   "cell_type": "markdown",
   "id": "55c26db3",
   "metadata": {},
   "source": [
    "## 1. Basics"
   ]
  },
  {
   "cell_type": "markdown",
   "id": "00301560",
   "metadata": {},
   "source": [
    "### 1.1 Cirq and parameterized quantum circuits"
   ]
  },
  {
   "cell_type": "code",
   "execution_count": 6,
   "id": "065e660d",
   "metadata": {
    "scrolled": false
   },
   "outputs": [
    {
     "name": "stderr",
     "output_type": "stream",
     "text": [
      "findfont: Font family 'Arial' not found.\n",
      "findfont: Font family 'Arial' not found.\n",
      "findfont: Font family 'Arial' not found.\n",
      "findfont: Font family 'Arial' not found.\n",
      "findfont: Font family 'Arial' not found.\n",
      "findfont: Font family 'Arial' not found.\n"
     ]
    },
    {
     "data": {
      "image/svg+xml": [
       "<svg xmlns=\"http://www.w3.org/2000/svg\" width=\"234.4567578125\" height=\"100.0\"><line x1=\"34.7588671875\" x2=\"204.4567578125\" y1=\"25.0\" y2=\"25.0\" stroke=\"#1967d2\" stroke-width=\"1\" /><line x1=\"34.7588671875\" x2=\"204.4567578125\" y1=\"75.0\" y2=\"75.0\" stroke=\"#1967d2\" stroke-width=\"1\" /><line x1=\"164.4567578125\" x2=\"164.4567578125\" y1=\"25.0\" y2=\"75.0\" stroke=\"black\" stroke-width=\"3\" /><rect x=\"10.0\" y=\"5.0\" width=\"49.517734375\" height=\"40\" stroke=\"black\" fill=\"white\" stroke-width=\"0\" /><text x=\"34.7588671875\" y=\"25.0\" dominant-baseline=\"middle\" text-anchor=\"middle\" font-size=\"14px\" font-family=\"Arial\">(0, 0): </text><rect x=\"10.0\" y=\"55.0\" width=\"49.517734375\" height=\"40\" stroke=\"black\" fill=\"white\" stroke-width=\"0\" /><text x=\"34.7588671875\" y=\"75.0\" dominant-baseline=\"middle\" text-anchor=\"middle\" font-size=\"14px\" font-family=\"Arial\">(0, 1): </text><rect x=\"79.517734375\" y=\"5.0\" width=\"44.9390234375\" height=\"40\" stroke=\"black\" fill=\"white\" stroke-width=\"1\" /><text x=\"101.98724609375\" y=\"25.0\" dominant-baseline=\"middle\" text-anchor=\"middle\" font-size=\"14px\" font-family=\"Arial\">Rx(a)</text><rect x=\"79.517734375\" y=\"55.0\" width=\"44.9390234375\" height=\"40\" stroke=\"black\" fill=\"white\" stroke-width=\"1\" /><text x=\"101.98724609375\" y=\"75.0\" dominant-baseline=\"middle\" text-anchor=\"middle\" font-size=\"14px\" font-family=\"Arial\">Ry(b)</text><circle cx=\"164.4567578125\" cy=\"25.0\" r=\"10.0\" /><rect x=\"144.4567578125\" y=\"55.0\" width=\"40\" height=\"40\" stroke=\"black\" fill=\"white\" stroke-width=\"1\" /><text x=\"164.4567578125\" y=\"75.0\" dominant-baseline=\"middle\" text-anchor=\"middle\" font-size=\"18px\" font-family=\"Arial\">X</text></svg>"
      ],
      "text/plain": [
       "<cirq.contrib.svg.svg.SVGCircuit at 0x7fd6a0d45130>"
      ]
     },
     "execution_count": 6,
     "metadata": {},
     "output_type": "execute_result"
    }
   ],
   "source": [
    "# Cirq uses SymPy symbols to represent free parameters\n",
    "a, b = sympy.symbols('a b')\n",
    "\n",
    "# Create two Grid qubits using our parameters\n",
    "q0, q1 = cirq.GridQubit.rect(1, 2)\n",
    "\n",
    "# Create a circuit on these qubits using the parameters we created above\n",
    "circuit = cirq.Circuit(\n",
    "    cirq.rx(a)(q0),\n",
    "    cirq.ry(b)(q1), \n",
    "    cirq.CNOT(q0, q1))\n",
    "\n",
    "# Display the circuit using SVGCircuit - you can also print(circuit)\n",
    "SVGCircuit(circuit)"
   ]
  },
  {
   "cell_type": "markdown",
   "id": "7d54e4ef",
   "metadata": {},
   "source": [
    "#### Cirq Simulator"
   ]
  },
  {
   "cell_type": "markdown",
   "id": "823beb24",
   "metadata": {},
   "source": [
    "We can evaluate the quantum circuit created in the previous block with specific parameter values for the `a` and `b` parameters. Use the `cirq.Simulator` class which provides methods to **simulate the circuit and obtain the final state** of the quantum system."
   ]
  },
  {
   "cell_type": "code",
   "execution_count": 7,
   "id": "fedf6122",
   "metadata": {},
   "outputs": [
    {
     "name": "stdout",
     "output_type": "stream",
     "text": [
      "[ 0.9387913 +0.j         -0.23971277+0.j          0.        +0.06120872j\n",
      "  0.        -0.23971277j]\n"
     ]
    }
   ],
   "source": [
    "# Calculate a state vector with a = 0.5 and b = -0.5.\n",
    "resolver = cirq.ParamResolver({a: 0.5, b: -0.5})\n",
    "\n",
    "# Run the simulation with the parameter values on quantum circuit\n",
    "output_state_vector = cirq.Simulator().simulate(circuit, resolver).final_state_vector\n",
    "print(output_state_vector)"
   ]
  },
  {
   "cell_type": "markdown",
   "id": "6671a6e1",
   "metadata": {},
   "source": [
    "After the resolver is created, it is passed to the `simulate` method of a `cirq.Simulator` object along with the circuit to be simulated. The `simulate` method performs the simulation and returns a `SimulationTrialResult` object. The `final_state_vector` attribute of the result is accessed to obtain the final state of the quantum system as a complex numpy array. **Each element of the array corresponds to the amplitude of the respective basis state.**"
   ]
  },
  {
   "cell_type": "markdown",
   "id": "5ec4d95f",
   "metadata": {},
   "source": [
    "#### State Vectors"
   ]
  },
  {
   "cell_type": "markdown",
   "id": "ba46f035",
   "metadata": {},
   "source": [
    "**State Vectors**: a mathematical representation of the state of a quantum system. It's a complex vector that contains amplitude probabilities for each possible state of the system, and its size is 2^n, where n is the number of qubits in the system.\n",
    "\n",
    "However, when a quantum system is measured, **it collapses to one of its basis states**, and this is the **only information that we can obtain in a real-world**, physical quantum computer. We **cannot directly observe the state vector; it's a theoretical concept** useful for computations and reasoning about quantum systems, but it can't be accessed or measured directly in physical experiments or in quantum hardware."
   ]
  },
  {
   "cell_type": "code",
   "execution_count": 8,
   "id": "e5f0ddad",
   "metadata": {},
   "outputs": [
    {
     "data": {
      "text/plain": [
       "0.8775825500488281"
      ]
     },
     "execution_count": 8,
     "metadata": {},
     "output_type": "execute_result"
    }
   ],
   "source": [
    "# Create a Z operator (Pauli Z gate) on the q0 qubit\n",
    "z0 = cirq.Z(q0)\n",
    "\n",
    "# Map the qubits to the indices in the state vector\n",
    "qubit_map={q0: 0, q1: 1}\n",
    "\n",
    "# Calculate the expectation value of this operator with respect to the provided state vector\n",
    "z0.expectation_from_state_vector(output_state_vector, qubit_map).real"
   ]
  },
  {
   "cell_type": "markdown",
   "id": "d53873f4",
   "metadata": {},
   "source": [
    "In quantum computing, we can **calculate the expectation value of an operator, given a particular quantum state**. The expectation value gives us the **average result** if we were to measure the operator on multiple identically prepared quantum states. \n",
    "\n",
    "The expectation value of an operator is **calculated by taking the dot product of the state vector with the operator** applied to the state vector."
   ]
  },
  {
   "cell_type": "code",
   "execution_count": 9,
   "id": "168d4d14",
   "metadata": {},
   "outputs": [
    {
     "data": {
      "text/plain": [
       "-0.04063427448272705"
      ]
     },
     "execution_count": 9,
     "metadata": {},
     "output_type": "execute_result"
    }
   ],
   "source": [
    "# Create a new opertor - linear combo of the Z operator on q0 and X operator on q1\n",
    "z0x1 = 0.5 * z0 + cirq.X(q1)\n",
    "\n",
    "# Calculate expectation value of new operator with respect to the same state vector\n",
    "z0x1.expectation_from_state_vector(output_state_vector, qubit_map).real"
   ]
  },
  {
   "cell_type": "markdown",
   "id": "544b1ff8",
   "metadata": {},
   "source": [
    "### 1.2 Quantum circuits as tensors"
   ]
  },
  {
   "cell_type": "markdown",
   "id": "0e2d1cf5",
   "metadata": {},
   "source": [
    "TFQ allows you to **integrate quantum circuits into TensorFlow's computation graph**, making it easier to integrate quantum computing with classical machine learning."
   ]
  },
  {
   "cell_type": "code",
   "execution_count": 10,
   "id": "4b48b189",
   "metadata": {},
   "outputs": [
    {
     "name": "stdout",
     "output_type": "stream",
     "text": [
      "(1,)\n",
      "<dtype: 'string'>\n"
     ]
    }
   ],
   "source": [
    "# Create a Tensorflow tensor from the list containing one circuit\n",
    "circuit_tensor = tfq.convert_to_tensor([circuit])\n",
    "\n",
    "# Access and print the circuit's shape (one-dimensional) and dtype (serialized into a string)\n",
    "print(circuit_tensor.shape)\n",
    "print(circuit_tensor.dtype)"
   ]
  },
  {
   "cell_type": "markdown",
   "id": "8d580fbb",
   "metadata": {},
   "source": [
    "`tfq.convert_to_tensor`: a function that allows you to convert Cirq objects into TensorFlow tensors. \n",
    "\n",
    "**Tensors**: the fundamental data structure used in TensorFlow, and they represent a generalization of arrays and matrices to potentially higher dimensions."
   ]
  },
  {
   "cell_type": "code",
   "execution_count": 11,
   "id": "a4dd3da3",
   "metadata": {},
   "outputs": [
    {
     "data": {
      "text/plain": [
       "TensorShape([2])"
      ]
     },
     "execution_count": 11,
     "metadata": {},
     "output_type": "execute_result"
    }
   ],
   "source": [
    "# Create a tensor from two Pauli operators \n",
    "pauli_tensor = tfq.convert_to_tensor([z0, z0x1])\n",
    "\n",
    "# The tensor's shape is one-dimensional but contains two elements\n",
    "pauli_tensor.shape"
   ]
  },
  {
   "cell_type": "markdown",
   "id": "aefd30f9",
   "metadata": {},
   "source": [
    "### 1.3 Batching circuit simulation"
   ]
  },
  {
   "cell_type": "markdown",
   "id": "ce78c2ad",
   "metadata": {},
   "source": [
    "**Expectation values**: often used in variational quantum algorithms, which iteratively adjust parameters in a quantum circuit to find the minimum expectation value of a given Hamiltonian.\n",
    "\n",
    "`tfq.layers.Expectation`: part of TensorFlow Quantum's interface for calculating expectation values. As a `tf.keras.Layer`, it **integrates directly with TensorFlow's model-building** and training infrastructure."
   ]
  },
  {
   "cell_type": "code",
   "execution_count": 12,
   "id": "b416d04c",
   "metadata": {},
   "outputs": [],
   "source": [
    "batch_vals = np.array(np.random.uniform(0, 2 * np.pi, (5, 2)), dtype=float)"
   ]
  },
  {
   "cell_type": "markdown",
   "id": "797a24da",
   "metadata": {},
   "source": [
    "**Parameterized quantum circuit**: a quantum circuit that has symbolic parameters which can be replaced with specific values.\n",
    "\n",
    "The `tfq.layers.Expectation` works by **simulating a parameterized quantum circuit with a set of parameter values** provided in the form of a `cirq.ParamResolver` object. However, the `tfq.layers.Expectation` layer is **designed to handle batches of parameters**, adhering to the standard TensorFlow semantics for batched operations. This makes it possible to **pass multiple sets of parameters at once**, and it will compute the expectation values for all of them, typically leading to **more efficient computation**."
   ]
  },
  {
   "cell_type": "code",
   "execution_count": 13,
   "id": "1fccc805",
   "metadata": {},
   "outputs": [
    {
     "name": "stdout",
     "output_type": "stream",
     "text": [
      "cirq batch results: \n",
      " [[ 0.07507318]\n",
      " [ 0.48120806]\n",
      " [-0.98388326]\n",
      " [-0.45242536]\n",
      " [-0.90266973]]\n"
     ]
    }
   ],
   "source": [
    "cirq_results = []\n",
    "cirq_simulator = cirq.Simulator()\n",
    "\n",
    "# Expectation value is being calculated in a loop over different sets of parameter values\n",
    "for vals in batch_vals:\n",
    "    resolver = cirq.ParamResolver({a: vals[0], b: vals[1]})\n",
    "    final_state_vector = cirq_simulator.simulate(circuit, resolver).final_state_vector\n",
    "    cirq_results.append(\n",
    "        [z0.expectation_from_state_vector(final_state_vector, {\n",
    "            q0: 0,\n",
    "            q1: 1\n",
    "        }).real])\n",
    "\n",
    "print('cirq batch results: \\n {}'.format(np.array(cirq_results)))"
   ]
  },
  {
   "cell_type": "markdown",
   "id": "e310f0e9",
   "metadata": {},
   "source": [
    "The code above uses Cirq to **simulate the results in a final state vector**, which is a complex vector that encodes the quantum state of the system at the end of the circuit execution."
   ]
  },
  {
   "cell_type": "code",
   "execution_count": 14,
   "id": "e5236863",
   "metadata": {},
   "outputs": [
    {
     "data": {
      "text/plain": [
       "<tf.Tensor: shape=(5, 1), dtype=float32, numpy=\n",
       "array([[ 0.07507494],\n",
       "       [ 0.48120785],\n",
       "       [-0.98388296],\n",
       "       [-0.45242435],\n",
       "       [-0.9026693 ]], dtype=float32)>"
      ]
     },
     "execution_count": 14,
     "metadata": {},
     "output_type": "execute_result"
    }
   ],
   "source": [
    "tfq.layers.Expectation()(circuit,\n",
    "                         symbol_names=[a, b],\n",
    "                         symbol_values=batch_vals,\n",
    "                         operators=z0)"
   ]
  },
  {
   "cell_type": "markdown",
   "id": "4a684125",
   "metadata": {},
   "source": [
    "TFQ can be used to accomplish the same thing in a more efficient way. The `tfq.layers.Expectation` function **creates a layer that computes the expectation values** of the specified operators when the circuit is executed with the given parameter values."
   ]
  },
  {
   "cell_type": "markdown",
   "id": "e603d26a",
   "metadata": {},
   "source": [
    "## 2. Hybrid quantum-classical optimization"
   ]
  },
  {
   "cell_type": "markdown",
   "id": "eeaf73dc",
   "metadata": {},
   "source": [
    "The term \"hybrid quantum-classical optimization\" refers to the fact that the setup involves **optimizing a classical neural network to control a quantum system**.\n",
    "\n",
    "Hybrid quantum-classical optimization is based on the premise that a **classical neural network is trained to control the state of a single qubit**. The goal is to guide the qubit to reach either the state |0⟩ or the state |1⟩, **overcoming a simulated systematic calibration error.**"
   ]
  },
  {
   "cell_type": "markdown",
   "id": "68f34f0b",
   "metadata": {},
   "source": [
    "#### Hybrid System Architecture"
   ]
  },
  {
   "cell_type": "markdown",
   "id": "457910b1",
   "metadata": {},
   "source": [
    "**Input circuit or datapoint circuit**: a quantum circuit consisting of **the first three 𝜋/8 gates**. These gates prepare the initial state of the qubit, which will then be processed by the rest of the system.\n",
    "\n",
    "**Controlled circuit**: another quantum circuit consisting of **the other three 𝜋/8 gates**. The parameters of these gates, which determine how they transform the qubit's state, are **controlled by the output of the classical neural network**.\n",
    "\n",
    "**Controller**: a classical neural network that takes some **classical data as input and outputs the parameters** for the controlled circuit. The goal of training this network is to **find parameters** that cause the controlled circuit **to drive the qubit to the correct state** (either |0⟩ or |1⟩) for each input."
   ]
  },
  {
   "cell_type": "markdown",
   "id": "a3bdb58f",
   "metadata": {},
   "source": [
    "### 2.1 The controlled circuit definition"
   ]
  },
  {
   "cell_type": "markdown",
   "id": "0620980d",
   "metadata": {},
   "source": [
    "Define a parameterized quantum circuit, which will act as the **\"controlled circuit\"** in the hybrid quantum-classical architecture. This circuit will be controlled by the output of the classical neural network (the \"controller\")."
   ]
  },
  {
   "cell_type": "code",
   "execution_count": 15,
   "id": "0ef972cb",
   "metadata": {},
   "outputs": [
    {
     "name": "stderr",
     "output_type": "stream",
     "text": [
      "findfont: Font family 'Arial' not found.\n",
      "findfont: Font family 'Arial' not found.\n",
      "findfont: Font family 'Arial' not found.\n",
      "findfont: Font family 'Arial' not found.\n"
     ]
    },
    {
     "data": {
      "image/svg+xml": [
       "<svg xmlns=\"http://www.w3.org/2000/svg\" width=\"435.74449218750004\" height=\"50.0\"><line x1=\"34.7588671875\" x2=\"405.74449218750004\" y1=\"25.0\" y2=\"25.0\" stroke=\"#1967d2\" stroke-width=\"1\" /><rect x=\"10.0\" y=\"5.0\" width=\"49.517734375\" height=\"40\" stroke=\"black\" fill=\"white\" stroke-width=\"0\" /><text x=\"34.7588671875\" y=\"25.0\" dominant-baseline=\"middle\" text-anchor=\"middle\" font-size=\"14px\" font-family=\"Arial\">(0, 0): </text><rect x=\"79.517734375\" y=\"5.0\" width=\"88.37457031250001\" height=\"40\" stroke=\"black\" fill=\"white\" stroke-width=\"1\" /><text x=\"123.70501953125\" y=\"25.0\" dominant-baseline=\"middle\" text-anchor=\"middle\" font-size=\"14px\" font-family=\"Arial\">Rz(theta_1)</text><rect x=\"187.89230468750003\" y=\"5.0\" width=\"88.54109375\" height=\"40\" stroke=\"black\" fill=\"white\" stroke-width=\"1\" /><text x=\"232.16285156250004\" y=\"25.0\" dominant-baseline=\"middle\" text-anchor=\"middle\" font-size=\"14px\" font-family=\"Arial\">Ry(theta_2)</text><rect x=\"296.43339843750005\" y=\"5.0\" width=\"89.31109375000001\" height=\"40\" stroke=\"black\" fill=\"white\" stroke-width=\"1\" /><text x=\"341.0889453125001\" y=\"25.0\" dominant-baseline=\"middle\" text-anchor=\"middle\" font-size=\"14px\" font-family=\"Arial\">Rx(theta_3)</text></svg>"
      ],
      "text/plain": [
       "<cirq.contrib.svg.svg.SVGCircuit at 0x7fd63ea99f40>"
      ]
     },
     "execution_count": 15,
     "metadata": {},
     "output_type": "execute_result"
    }
   ],
   "source": [
    "# Create three parameters that the neural network will feed into quantum circuit\n",
    "control_params = sympy.symbols('theta_1 theta_2 theta_3')\n",
    "\n",
    "# Create a single Grid qubit\n",
    "qubit = cirq.GridQubit(0, 0)\n",
    "\n",
    "# Create a circuit containing three gates\n",
    "model_circuit = cirq.Circuit(\n",
    "    cirq.rz(control_params[0])(qubit),\n",
    "    cirq.ry(control_params[1])(qubit),\n",
    "    cirq.rx(control_params[2])(qubit))\n",
    "\n",
    "SVGCircuit(model_circuit)"
   ]
  },
  {
   "cell_type": "markdown",
   "id": "58100a87",
   "metadata": {},
   "source": [
    "### 2.2 The controller"
   ]
  },
  {
   "cell_type": "markdown",
   "id": "f0fef05f",
   "metadata": {},
   "source": [
    "Define the classical controller part of the quantum-classical hybrid architecture. The controller is a **simple classical neural network** built using Keras. It's created using the `tf.keras.Sequential` model, which is a **linear stack of layers**."
   ]
  },
  {
   "cell_type": "code",
   "execution_count": 16,
   "id": "25a72f4e",
   "metadata": {},
   "outputs": [
    {
     "data": {
      "text/plain": [
       "array([[ 0.0000000e+00,  0.0000000e+00,  0.0000000e+00],\n",
       "       [-1.2918804e+00, -2.7939156e-03,  1.2581348e-03]], dtype=float32)"
      ]
     },
     "execution_count": 16,
     "metadata": {},
     "output_type": "execute_result"
    }
   ],
   "source": [
    "# The classical neural network layers.\n",
    "controller = tf.keras.Sequential([\n",
    "    tf.keras.layers.Dense(10, activation='elu'),\n",
    "    tf.keras.layers.Dense(3)\n",
    "])\n",
    "\n",
    "# Test the controller by passing in batch of two inputs - useless\n",
    "controller(tf.constant([[0.0],[1.0]])).numpy()"
   ]
  },
  {
   "cell_type": "markdown",
   "id": "f43e26cb",
   "metadata": {},
   "source": [
    "As the controller network is initially **randomly initialized**, the outputs it generates at this stage **don't have any meaningful correlations**. However, during the training process, the weights of the neural network **will be adjusted to provide the correct parameters** to the quantum circuit to achieve the desired outcomes."
   ]
  },
  {
   "cell_type": "markdown",
   "id": "fe423e7e",
   "metadata": {},
   "source": [
    "### 2.3 Connect the controller to the circuit"
   ]
  },
  {
   "cell_type": "markdown",
   "id": "caa73f65",
   "metadata": {},
   "source": [
    "**Inputs**: the model will accept two inputs: `circuits_input` and `commands_input`. "
   ]
  },
  {
   "cell_type": "code",
   "execution_count": 21,
   "id": "1a6e9135",
   "metadata": {},
   "outputs": [],
   "source": [
    "# Quantum circuits as inputs, these are miscalibrated circuits that the model will correct\n",
    "circuits_input = tf.keras.Input(shape=(),\n",
    "                                dtype=tf.string,\n",
    "                                name='circuits_input')\n",
    "\n",
    "# Classical commands to specify the state to set the qubit to - either \"0\" or \"1\"\n",
    "commands_input = tf.keras.Input(shape=(1,),\n",
    "                                dtype=tf.dtypes.float32,\n",
    "                                name='commands_input')"
   ]
  },
  {
   "cell_type": "markdown",
   "id": "e823d9a2",
   "metadata": {},
   "source": [
    "**Connections**: The control signals from the controller are used as parameters for the quantum circuit. "
   ]
  },
  {
   "cell_type": "code",
   "execution_count": 22,
   "id": "eca1828e",
   "metadata": {},
   "outputs": [],
   "source": [
    "# Send the command to the controller and gets control signals as output\n",
    "dense_2 = controller(commands_input)\n",
    "\n",
    "# Define the controlled quantum circuit using the model circuit and the operator for the qubit\n",
    "expectation_layer = tfq.layers.ControlledPQC(model_circuit,\n",
    "                                             # Observe Z operator\n",
    "                                             operators = cirq.Z(qubit))\n",
    "\n",
    "# Applies layer to the circuit inputs and controllers outputs - expectation values\n",
    "expectation = expectation_layer([circuits_input, dense_2])"
   ]
  },
  {
   "cell_type": "markdown",
   "id": "394dd9c2",
   "metadata": {},
   "source": [
    "**Model**: The model takes the circuit and the commands as inputs and outputs the expectation values."
   ]
  },
  {
   "cell_type": "code",
   "execution_count": 23,
   "id": "293632e8",
   "metadata": {},
   "outputs": [
    {
     "data": {
      "image/png": "[encoded data removed]",
      "text/plain": [
       "<IPython.core.display.Image object>"
      ]
     },
     "execution_count": 23,
     "metadata": {},
     "output_type": "execute_result"
    }
   ],
   "source": [
    "# Package the entire computation into a Keras model\n",
    "model = tf.keras.Model(inputs=[circuits_input, commands_input],\n",
    "                       outputs=expectation)\n",
    "\n",
    "tf.keras.utils.plot_model(model, show_shapes=True, dpi=70)"
   ]
  },
  {
   "cell_type": "markdown",
   "id": "db5f9543",
   "metadata": {},
   "source": [
    "Ensure that the model is correctly assembled by **comparing the model plot to the architecture diagram**."
   ]
  }
 ],
 "metadata": {
  "kernelspec": {
   "display_name": "Python 3 (ipykernel)",
   "language": "python",
   "name": "python3"
  },
  "language_info": {
   "codemirror_mode": {
    "name": "ipython",
    "version": 3
   },
   "file_extension": ".py",
   "mimetype": "text/x-python",
   "name": "python",
   "nbconvert_exporter": "python",
   "pygments_lexer": "ipython3",
   "version": "3.9.17"
  }
 },
 "nbformat": 4,
 "nbformat_minor": 5
}
