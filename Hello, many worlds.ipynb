{
 "cells": [
  {
   "cell_type": "markdown",
   "id": "b2a368ed",
   "metadata": {},
   "source": [
    "# TFQ: Hello, many worlds - Cirq 1.1.0"
   ]
  },
  {
   "cell_type": "markdown",
   "id": "7dc1ff4a",
   "metadata": {},
   "source": [
    "### by ReDay Zarra"
   ]
  },
  {
   "cell_type": "markdown",
   "id": "3184a087",
   "metadata": {},
   "source": [
    "## Setup"
   ]
  },
  {
   "cell_type": "code",
   "execution_count": 1,
   "id": "d75b14cb",
   "metadata": {},
   "outputs": [
    {
     "name": "stdout",
     "output_type": "stream",
     "text": [
      "3.9.17 (main, Jun  6 2023, 20:11:21) \n",
      "[GCC 11.3.0]\n"
     ]
    }
   ],
   "source": [
    "import sys\n",
    "print(sys.version)"
   ]
  },
  {
   "cell_type": "code",
   "execution_count": 2,
   "id": "0fa2fa3d",
   "metadata": {},
   "outputs": [
    {
     "data": {
      "text/plain": [
       "<module 'pkg_resources' from '/usr/lib/python3/dist-packages/pkg_resources/__init__.py'>"
      ]
     },
     "execution_count": 2,
     "metadata": {},
     "output_type": "execute_result"
    }
   ],
   "source": [
    "import importlib, pkg_resources\n",
    "importlib.reload(pkg_resources)"
   ]
  },
  {
   "cell_type": "code",
   "execution_count": 3,
   "id": "b3c499bc",
   "metadata": {},
   "outputs": [
    {
     "name": "stderr",
     "output_type": "stream",
     "text": [
      "2023-07-03 11:09:47.016933: W tensorflow/stream_executor/platform/default/dso_loader.cc:64] Could not load dynamic library 'libcudart.so.11.0'; dlerror: libcudart.so.11.0: cannot open shared object file: No such file or directory\n",
      "2023-07-03 11:09:47.016985: I tensorflow/stream_executor/cuda/cudart_stub.cc:29] Ignore above cudart dlerror if you do not have a GPU set up on your machine.\n",
      "/usr/lib/python3/dist-packages/pkg_resources/__init__.py:116: PkgResourcesDeprecationWarning: 1.1build1 is an invalid version and will not be supported in a future release\n",
      "  warnings.warn(\n",
      "2023-07-03 11:09:51.349258: W tensorflow/stream_executor/platform/default/dso_loader.cc:64] Could not load dynamic library 'libcuda.so.1'; dlerror: libcuda.so.1: cannot open shared object file: No such file or directory\n",
      "2023-07-03 11:09:51.349318: W tensorflow/stream_executor/cuda/cuda_driver.cc:269] failed call to cuInit: UNKNOWN ERROR (303)\n",
      "2023-07-03 11:09:51.349362: I tensorflow/stream_executor/cuda/cuda_diagnostics.cc:156] kernel driver does not appear to be running on this host (Bruno): /proc/driver/nvidia/version does not exist\n",
      "2023-07-03 11:09:51.349758: I tensorflow/core/platform/cpu_feature_guard.cc:151] This TensorFlow binary is optimized with oneAPI Deep Neural Network Library (oneDNN) to use the following CPU instructions in performance-critical operations:  AVX2 FMA\n",
      "To enable them in other operations, rebuild TensorFlow with the appropriate compiler flags.\n"
     ]
    }
   ],
   "source": [
    "import tensorflow as tf\n",
    "import tensorflow_quantum as tfq\n",
    "\n",
    "import cirq\n",
    "import sympy\n",
    "import numpy as np"
   ]
  },
  {
   "cell_type": "code",
   "execution_count": 4,
   "id": "cdabe4fc",
   "metadata": {},
   "outputs": [],
   "source": [
    "# Visualization tools: matplotlib and Cirq's svg circuit\n",
    "%matplotlib inline\n",
    "import matplotlib.pyplot as plt\n",
    "from cirq.contrib.svg import SVGCircuit"
   ]
  },
  {
   "cell_type": "code",
   "execution_count": 5,
   "id": "75e1ccd8",
   "metadata": {},
   "outputs": [
    {
     "name": "stdout",
     "output_type": "stream",
     "text": [
      "TensorFlow version:  2.7.0\n",
      "TensorFlow Quantum version:  0.7.2\n",
      "Cirq version:  1.1.0\n"
     ]
    }
   ],
   "source": [
    "print(\"TensorFlow version: \", tf.__version__)\n",
    "print(\"TensorFlow Quantum version: \", tfq.__version__)\n",
    "print(\"Cirq version: \", cirq.__version__)"
   ]
  },
  {
   "cell_type": "markdown",
   "id": "55c26db3",
   "metadata": {},
   "source": [
    "## 1. Basics"
   ]
  },
  {
   "cell_type": "markdown",
   "id": "00301560",
   "metadata": {},
   "source": [
    "### 1.1 Cirq and parameterized quantum circuits"
   ]
  },
  {
   "cell_type": "code",
   "execution_count": 8,
   "id": "065e660d",
   "metadata": {
    "scrolled": false
   },
   "outputs": [
    {
     "name": "stderr",
     "output_type": "stream",
     "text": [
      "findfont: Font family 'Arial' not found.\n",
      "findfont: Font family 'Arial' not found.\n",
      "findfont: Font family 'Arial' not found.\n",
      "findfont: Font family 'Arial' not found.\n",
      "findfont: Font family 'Arial' not found.\n",
      "findfont: Font family 'Arial' not found.\n"
     ]
    },
    {
     "data": {
      "image/svg+xml": [
       "<svg xmlns=\"http://www.w3.org/2000/svg\" width=\"234.4567578125\" height=\"100.0\"><line x1=\"34.7588671875\" x2=\"204.4567578125\" y1=\"25.0\" y2=\"25.0\" stroke=\"#1967d2\" stroke-width=\"1\" /><line x1=\"34.7588671875\" x2=\"204.4567578125\" y1=\"75.0\" y2=\"75.0\" stroke=\"#1967d2\" stroke-width=\"1\" /><line x1=\"164.4567578125\" x2=\"164.4567578125\" y1=\"25.0\" y2=\"75.0\" stroke=\"black\" stroke-width=\"3\" /><rect x=\"10.0\" y=\"5.0\" width=\"49.517734375\" height=\"40\" stroke=\"black\" fill=\"white\" stroke-width=\"0\" /><text x=\"34.7588671875\" y=\"25.0\" dominant-baseline=\"middle\" text-anchor=\"middle\" font-size=\"14px\" font-family=\"Arial\">(0, 0): </text><rect x=\"10.0\" y=\"55.0\" width=\"49.517734375\" height=\"40\" stroke=\"black\" fill=\"white\" stroke-width=\"0\" /><text x=\"34.7588671875\" y=\"75.0\" dominant-baseline=\"middle\" text-anchor=\"middle\" font-size=\"14px\" font-family=\"Arial\">(0, 1): </text><rect x=\"79.517734375\" y=\"5.0\" width=\"44.9390234375\" height=\"40\" stroke=\"black\" fill=\"white\" stroke-width=\"1\" /><text x=\"101.98724609375\" y=\"25.0\" dominant-baseline=\"middle\" text-anchor=\"middle\" font-size=\"14px\" font-family=\"Arial\">Rx(a)</text><rect x=\"79.517734375\" y=\"55.0\" width=\"44.9390234375\" height=\"40\" stroke=\"black\" fill=\"white\" stroke-width=\"1\" /><text x=\"101.98724609375\" y=\"75.0\" dominant-baseline=\"middle\" text-anchor=\"middle\" font-size=\"14px\" font-family=\"Arial\">Ry(b)</text><circle cx=\"164.4567578125\" cy=\"25.0\" r=\"10.0\" /><rect x=\"144.4567578125\" y=\"55.0\" width=\"40\" height=\"40\" stroke=\"black\" fill=\"white\" stroke-width=\"1\" /><text x=\"164.4567578125\" y=\"75.0\" dominant-baseline=\"middle\" text-anchor=\"middle\" font-size=\"18px\" font-family=\"Arial\">X</text></svg>"
      ],
      "text/plain": [
       "<cirq.contrib.svg.svg.SVGCircuit at 0x7f95946ecd60>"
      ]
     },
     "execution_count": 8,
     "metadata": {},
     "output_type": "execute_result"
    }
   ],
   "source": [
    "# Cirq uses SymPy symbols to represent free parameters\n",
    "a, b = sympy.symbols('a b')\n",
    "\n",
    "# Create two Grid qubits using our parameters\n",
    "q0, q1 = cirq.GridQubit.rect(1, 2)\n",
    "\n",
    "# Create a circuit on these qubits using the parameters we created above\n",
    "circuit = cirq.Circuit(\n",
    "    cirq.rx(a)(q0),\n",
    "    cirq.ry(b)(q1), \n",
    "    cirq.CNOT(q0, q1))\n",
    "\n",
    "# Display the circuit using SVGCircuit - you can also print(circuit)\n",
    "SVGCircuit(circuit)"
   ]
  },
  {
   "cell_type": "markdown",
   "id": "7d54e4ef",
   "metadata": {},
   "source": [
    "#### Cirq Simulator"
   ]
  },
  {
   "cell_type": "markdown",
   "id": "823beb24",
   "metadata": {},
   "source": [
    "We can evaluate the quantum circuit created in the previous block with specific parameter values for the `a` and `b` parameters. Use the `cirq.Simulator` class which provides methods to **simulate the circuit and obtain the final state** of the quantum system."
   ]
  },
  {
   "cell_type": "code",
   "execution_count": 11,
   "id": "fedf6122",
   "metadata": {},
   "outputs": [
    {
     "name": "stdout",
     "output_type": "stream",
     "text": [
      "[ 0.9387913 +0.j         -0.23971277+0.j          0.        +0.06120872j\n",
      "  0.        -0.23971277j]\n"
     ]
    }
   ],
   "source": [
    "# Calculate a state vector with a = 0.5 and b = -0.5.\n",
    "resolver = cirq.ParamResolver({a: 0.5, b: -0.5})\n",
    "\n",
    "# Run the simulation with the parameter values on quantum circuit\n",
    "output_state_vector = cirq.Simulator().simulate(circuit, resolver).final_state_vector\n",
    "print(output_state_vector)"
   ]
  },
  {
   "cell_type": "markdown",
   "id": "6671a6e1",
   "metadata": {},
   "source": [
    "After the resolver is created, it is passed to the `simulate` method of a `cirq.Simulator` object along with the circuit to be simulated. The `simulate` method performs the simulation and returns a `SimulationTrialResult` object. The `final_state_vector` attribute of the result is accessed to obtain the final state of the quantum system as a complex numpy array. **Each element of the array corresponds to the amplitude of the respective basis state.**"
   ]
  },
  {
   "cell_type": "markdown",
   "id": "5ec4d95f",
   "metadata": {},
   "source": [
    "#### State Vectors"
   ]
  },
  {
   "cell_type": "markdown",
   "id": "ba46f035",
   "metadata": {},
   "source": [
    "**State Vectors**: a mathematical representation of the state of a quantum system. It's a complex vector that contains amplitude probabilities for each possible state of the system, and its size is 2^n, where n is the number of qubits in the system.\n",
    "\n",
    "However, when a quantum system is measured, **it collapses to one of its basis states**, and this is the **only information that we can obtain in a real-world**, physical quantum computer. We **cannot directly observe the state vector; it's a theoretical concept** useful for computations and reasoning about quantum systems, but it can't be accessed or measured directly in physical experiments or in quantum hardware."
   ]
  },
  {
   "cell_type": "code",
   "execution_count": 12,
   "id": "e5f0ddad",
   "metadata": {},
   "outputs": [
    {
     "data": {
      "text/plain": [
       "0.8775825500488281"
      ]
     },
     "execution_count": 12,
     "metadata": {},
     "output_type": "execute_result"
    }
   ],
   "source": [
    "# Create a Z operator (Pauli Z gate) on the q0 qubit\n",
    "z0 = cirq.Z(q0)\n",
    "\n",
    "# Map the qubits to the indices in the state vector\n",
    "qubit_map={q0: 0, q1: 1}\n",
    "\n",
    "# Calculate the expectation value of this operator with respect to the provided state vector\n",
    "z0.expectation_from_state_vector(output_state_vector, qubit_map).real"
   ]
  },
  {
   "cell_type": "markdown",
   "id": "d53873f4",
   "metadata": {},
   "source": [
    "In quantum computing, we can **calculate the expectation value of an operator, given a particular quantum state**. The expectation value gives us the **average result** if we were to measure the operator on multiple identically prepared quantum states. \n",
    "\n",
    "The expectation value of an operator is **calculated by taking the dot product of the state vector with the operator** applied to the state vector."
   ]
  },
  {
   "cell_type": "code",
   "execution_count": 14,
   "id": "168d4d14",
   "metadata": {},
   "outputs": [
    {
     "data": {
      "text/plain": [
       "-0.04063427448272705"
      ]
     },
     "execution_count": 14,
     "metadata": {},
     "output_type": "execute_result"
    }
   ],
   "source": [
    "# Create a new opertor - linear combo of the Z operator on q0 and X operator on q1\n",
    "z0x1 = 0.5 * z0 + cirq.X(q1)\n",
    "\n",
    "# Calculate expectation value of new operator with respect to the same state vector\n",
    "z0x1.expectation_from_state_vector(output_state_vector, qubit_map).real"
   ]
  }
 ],
 "metadata": {
  "kernelspec": {
   "display_name": "Python 3 (ipykernel)",
   "language": "python",
   "name": "python3"
  },
  "language_info": {
   "codemirror_mode": {
    "name": "ipython",
    "version": 3
   },
   "file_extension": ".py",
   "mimetype": "text/x-python",
   "name": "python",
   "nbconvert_exporter": "python",
   "pygments_lexer": "ipython3",
   "version": "3.9.17"
  }
 },
 "nbformat": 4,
 "nbformat_minor": 5
}
